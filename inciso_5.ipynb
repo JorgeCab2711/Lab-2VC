{
 "cells": [
  {
   "cell_type": "code",
   "execution_count": 7,
   "metadata": {},
   "outputs": [],
   "source": [
    "import numpy as np\n",
    "import cv2\n",
    "import matplotlib.pyplot as plt\n",
    "\n",
    "def extractBlocksFromImage(image, blockSize, stride):\n",
    "    \"\"\"\n",
    "    Divide la imagen en bloques y extrae la magnitud y el ángulo del gradiente para cada bloque.\n",
    "\n",
    "    :param image: Imagen de entrada.\n",
    "    :param blockSize: El tamaño de los bloques (e.g., 16x16).\n",
    "    :param stride: La distancia entre bloques consecutivos (e.g., 8).\n",
    "    :return: Dos listas de arrays numpy, una para los bloques de magnitud y otra para los de ángulo.\n",
    "    \"\"\"\n",
    "    # Calcular el gradiente de la imagen\n",
    "    sobelx = cv2.Sobel(image, cv2.CV_64F, 1, 0, ksize=3)\n",
    "    sobely = cv2.Sobel(image, cv2.CV_64F, 0, 1, ksize=3)\n",
    "    mag, ang = cv2.cartToPolar(sobelx, sobely)\n",
    "\n",
    "    # Calcular el número de bloques vertical y horizontalmente\n",
    "    M = (mag.shape[0] - blockSize) // stride + 1\n",
    "    N = (mag.shape[1] - blockSize) // stride + 1\n",
    "\n",
    "    # Inicializar las listas para guardar bloques de magnitud y ángulo\n",
    "    blocksMag = []\n",
    "    blocksAng = []\n",
    "\n",
    "    # Iterar sobre la imagen extrayendo bloques\n",
    "    for i in range(0, M * stride, stride):\n",
    "        for j in range(0, N * stride, stride):\n",
    "            # Extraer bloques y añadir a las listas\n",
    "            blocksMag.append(mag[i:i+blockSize, j:j+blockSize])\n",
    "            blocksAng.append(ang[i:i+blockSize, j:j+blockSize])\n",
    "\n",
    "    return blocksMag, blocksAng"
   ]
  },
  {
   "cell_type": "code",
   "execution_count": 8,
   "metadata": {},
   "outputs": [],
   "source": [
    "def visualize_histograms_from_image(image, blockSize, stride):\n",
    "    \"\"\"\n",
    "    Genera una representación visual de los histogramas de los bloques de una imagen.\n",
    "\n",
    "    :param image: Imagen de entrada.\n",
    "    :param blockSize: El tamaño de los bloques.\n",
    "    :param stride: La distancia entre bloques consecutivos.\n",
    "    \"\"\"\n",
    "    blocksMag, blocksAng = extractBlocksFromImage(image, blockSize, stride)\n",
    "\n",
    "    # Inicializar la matriz de direcciones con fondo negro\n",
    "    direction_image = np.zeros((blockSize, blockSize))\n",
    "\n",
    "    for i in range(len(blocksMag)):\n",
    "        # Calcular el histograma del bloque actual\n",
    "        hist, _ = np.histogram(blocksAng[i].flatten(), bins=9, range=(0, 180), weights=blocksMag[i].flatten())\n",
    "\n",
    "        # Calcular el centroide de cada bin del histograma\n",
    "        bin_centers = np.linspace(0, 180, 10)[:-1] + 90 / 9\n",
    "\n",
    "        # Dibujar líneas en la matriz de direcciones según el histograma\n",
    "        for j in range(len(hist)):\n",
    "            magnitude = hist[j]\n",
    "            angle = bin_centers[j]\n",
    "            x = int(blockSize // 2 + magnitude * np.cos(np.radians(angle)))\n",
    "            y = int(blockSize // 2 + magnitude * np.sin(np.radians(angle)))\n",
    "            cv2.line(direction_image, (blockSize // 2, blockSize // 2), (x, y), int(hist[j]), thickness=1)\n",
    "\n",
    "    # Mostrar la imagen resultante\n",
    "    plt.imshow(direction_image, cmap='gray')\n",
    "    plt.axis('off')\n",
    "    plt.show()"
   ]
  },
  {
   "cell_type": "code",
   "execution_count": 9,
   "metadata": {},
   "outputs": [
    {
     "ename": "error",
     "evalue": "OpenCV(4.8.1) D:\\a\\opencv-python\\opencv-python\\opencv\\modules\\imgproc\\src\\deriv.cpp:419: error: (-215:Assertion failed) !_src.empty() in function 'cv::Sobel'\n",
     "output_type": "error",
     "traceback": [
      "\u001b[1;31m---------------------------------------------------------------------------\u001b[0m",
      "\u001b[1;31merror\u001b[0m                                     Traceback (most recent call last)",
      "Cell \u001b[1;32mIn[9], line 5\u001b[0m\n\u001b[0;32m      2\u001b[0m stride \u001b[38;5;241m=\u001b[39m \u001b[38;5;241m8\u001b[39m\n\u001b[0;32m      3\u001b[0m image \u001b[38;5;241m=\u001b[39m cv2\u001b[38;5;241m.\u001b[39mimread(\u001b[38;5;124m'\u001b[39m\u001b[38;5;124mpath_to_your_image.jpg\u001b[39m\u001b[38;5;124m'\u001b[39m, cv2\u001b[38;5;241m.\u001b[39mIMREAD_GRAYSCALE)\n\u001b[1;32m----> 5\u001b[0m \u001b[43mvisualize_histograms_from_image\u001b[49m\u001b[43m(\u001b[49m\u001b[43mimage\u001b[49m\u001b[43m,\u001b[49m\u001b[43m \u001b[49m\u001b[43mblockSize\u001b[49m\u001b[43m,\u001b[49m\u001b[43m \u001b[49m\u001b[43mstride\u001b[49m\u001b[43m)\u001b[49m\n",
      "Cell \u001b[1;32mIn[8], line 9\u001b[0m, in \u001b[0;36mvisualize_histograms_from_image\u001b[1;34m(image, blockSize, stride)\u001b[0m\n\u001b[0;32m      1\u001b[0m \u001b[38;5;28;01mdef\u001b[39;00m \u001b[38;5;21mvisualize_histograms_from_image\u001b[39m(image, blockSize, stride):\n\u001b[0;32m      2\u001b[0m \u001b[38;5;250m    \u001b[39m\u001b[38;5;124;03m\"\"\"\u001b[39;00m\n\u001b[0;32m      3\u001b[0m \u001b[38;5;124;03m    Genera una representación visual de los histogramas de los bloques de una imagen.\u001b[39;00m\n\u001b[0;32m      4\u001b[0m \n\u001b[1;32m   (...)\u001b[0m\n\u001b[0;32m      7\u001b[0m \u001b[38;5;124;03m    :param stride: La distancia entre bloques consecutivos.\u001b[39;00m\n\u001b[0;32m      8\u001b[0m \u001b[38;5;124;03m    \"\"\"\u001b[39;00m\n\u001b[1;32m----> 9\u001b[0m     blocksMag, blocksAng \u001b[38;5;241m=\u001b[39m \u001b[43mextractBlocksFromImage\u001b[49m\u001b[43m(\u001b[49m\u001b[43mimage\u001b[49m\u001b[43m,\u001b[49m\u001b[43m \u001b[49m\u001b[43mblockSize\u001b[49m\u001b[43m,\u001b[49m\u001b[43m \u001b[49m\u001b[43mstride\u001b[49m\u001b[43m)\u001b[49m\n\u001b[0;32m     11\u001b[0m     \u001b[38;5;66;03m# Inicializar la matriz de direcciones con fondo negro\u001b[39;00m\n\u001b[0;32m     12\u001b[0m     direction_image \u001b[38;5;241m=\u001b[39m np\u001b[38;5;241m.\u001b[39mzeros((blockSize, blockSize))\n",
      "Cell \u001b[1;32mIn[7], line 15\u001b[0m, in \u001b[0;36mextractBlocksFromImage\u001b[1;34m(image, blockSize, stride)\u001b[0m\n\u001b[0;32m      6\u001b[0m \u001b[38;5;250m\u001b[39m\u001b[38;5;124;03m\"\"\"\u001b[39;00m\n\u001b[0;32m      7\u001b[0m \u001b[38;5;124;03mDivide la imagen en bloques y extrae la magnitud y el ángulo del gradiente para cada bloque.\u001b[39;00m\n\u001b[0;32m      8\u001b[0m \n\u001b[1;32m   (...)\u001b[0m\n\u001b[0;32m     12\u001b[0m \u001b[38;5;124;03m:return: Dos listas de arrays numpy, una para los bloques de magnitud y otra para los de ángulo.\u001b[39;00m\n\u001b[0;32m     13\u001b[0m \u001b[38;5;124;03m\"\"\"\u001b[39;00m\n\u001b[0;32m     14\u001b[0m \u001b[38;5;66;03m# Calcular el gradiente de la imagen\u001b[39;00m\n\u001b[1;32m---> 15\u001b[0m sobelx \u001b[38;5;241m=\u001b[39m \u001b[43mcv2\u001b[49m\u001b[38;5;241;43m.\u001b[39;49m\u001b[43mSobel\u001b[49m\u001b[43m(\u001b[49m\u001b[43mimage\u001b[49m\u001b[43m,\u001b[49m\u001b[43m \u001b[49m\u001b[43mcv2\u001b[49m\u001b[38;5;241;43m.\u001b[39;49m\u001b[43mCV_64F\u001b[49m\u001b[43m,\u001b[49m\u001b[43m \u001b[49m\u001b[38;5;241;43m1\u001b[39;49m\u001b[43m,\u001b[49m\u001b[43m \u001b[49m\u001b[38;5;241;43m0\u001b[39;49m\u001b[43m,\u001b[49m\u001b[43m \u001b[49m\u001b[43mksize\u001b[49m\u001b[38;5;241;43m=\u001b[39;49m\u001b[38;5;241;43m3\u001b[39;49m\u001b[43m)\u001b[49m\n\u001b[0;32m     16\u001b[0m sobely \u001b[38;5;241m=\u001b[39m cv2\u001b[38;5;241m.\u001b[39mSobel(image, cv2\u001b[38;5;241m.\u001b[39mCV_64F, \u001b[38;5;241m0\u001b[39m, \u001b[38;5;241m1\u001b[39m, ksize\u001b[38;5;241m=\u001b[39m\u001b[38;5;241m3\u001b[39m)\n\u001b[0;32m     17\u001b[0m mag, ang \u001b[38;5;241m=\u001b[39m cv2\u001b[38;5;241m.\u001b[39mcartToPolar(sobelx, sobely)\n",
      "\u001b[1;31merror\u001b[0m: OpenCV(4.8.1) D:\\a\\opencv-python\\opencv-python\\opencv\\modules\\imgproc\\src\\deriv.cpp:419: error: (-215:Assertion failed) !_src.empty() in function 'cv::Sobel'\n"
     ]
    }
   ],
   "source": [
    "blockSize = 8\n",
    "stride = 8\n",
    "image = cv2.imread('./assets/person.png', cv2.IMREAD_GRAYSCALE)\n",
    "\n",
    "visualize_histograms_from_image(image, blockSize, stride)"
   ]
  }
 ],
 "metadata": {
  "kernelspec": {
   "display_name": "Python 3",
   "language": "python",
   "name": "python3"
  },
  "language_info": {
   "codemirror_mode": {
    "name": "ipython",
    "version": 3
   },
   "file_extension": ".py",
   "mimetype": "text/x-python",
   "name": "python",
   "nbconvert_exporter": "python",
   "pygments_lexer": "ipython3",
   "version": "3.11.4"
  }
 },
 "nbformat": 4,
 "nbformat_minor": 2
}
