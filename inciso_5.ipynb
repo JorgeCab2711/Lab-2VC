{
 "cells": [
  {
   "cell_type": "code",
   "execution_count": 7,
   "metadata": {},
   "outputs": [],
   "source": [
    "import numpy as np\n",
    "import cv2\n",
    "import matplotlib.pyplot as plt\n",
    "\n",
    "def extractBlocksFromImage(image, blockSize, stride):\n",
    "    \"\"\"\n",
    "    Divide la imagen en bloques y extrae la magnitud y el ángulo del gradiente para cada bloque.\n",
    "\n",
    "    :param image: Imagen de entrada.\n",
    "    :param blockSize: El tamaño de los bloques (e.g., 16x16).\n",
    "    :param stride: La distancia entre bloques consecutivos (e.g., 8).\n",
    "    :return: Dos listas de arrays numpy, una para los bloques de magnitud y otra para los de ángulo.\n",
    "    \"\"\"\n",
    "    # Calcular el gradiente de la imagen\n",
    "    sobelx = cv2.Sobel(image, cv2.CV_64F, 1, 0, ksize=3)\n",
    "    sobely = cv2.Sobel(image, cv2.CV_64F, 0, 1, ksize=3)\n",
    "    mag, ang = cv2.cartToPolar(sobelx, sobely)\n",
    "\n",
    "    # Calcular el número de bloques vertical y horizontalmente\n",
    "    M = (mag.shape[0] - blockSize) // stride + 1\n",
    "    N = (mag.shape[1] - blockSize) // stride + 1\n",
    "\n",
    "    # Inicializar las listas para guardar bloques de magnitud y ángulo\n",
    "    blocksMag = []\n",
    "    blocksAng = []\n",
    "\n",
    "    # Iterar sobre la imagen extrayendo bloques\n",
    "    for i in range(0, M * stride, stride):\n",
    "        for j in range(0, N * stride, stride):\n",
    "            # Extraer bloques y añadir a las listas\n",
    "            blocksMag.append(mag[i:i+blockSize, j:j+blockSize])\n",
    "            blocksAng.append(ang[i:i+blockSize, j:j+blockSize])\n",
    "\n",
    "    return blocksMag, blocksAng"
   ]
  },
  {
   "cell_type": "code",
   "execution_count": 8,
   "metadata": {},
   "outputs": [],
   "source": [
    "def visualize_histograms_from_image(image, blockSize, stride):\n",
    "    \"\"\"\n",
    "    Genera una representación visual de los histogramas de los bloques de una imagen.\n",
    "\n",
    "    :param image: Imagen de entrada.\n",
    "    :param blockSize: El tamaño de los bloques.\n",
    "    :param stride: La distancia entre bloques consecutivos.\n",
    "    \"\"\"\n",
    "    blocksMag, blocksAng = extractBlocksFromImage(image, blockSize, stride)\n",
    "\n",
    "    # Inicializar la matriz de direcciones con fondo negro\n",
    "    direction_image = np.zeros((blockSize, blockSize))\n",
    "\n",
    "    for i in range(len(blocksMag)):\n",
    "        # Calcular el histograma del bloque actual\n",
    "        hist, _ = np.histogram(blocksAng[i].flatten(), bins=9, range=(0, 180), weights=blocksMag[i].flatten())\n",
    "\n",
    "        # Calcular el centroide de cada bin del histograma\n",
    "        bin_centers = np.linspace(0, 180, 10)[:-1] + 90 / 9\n",
    "\n",
    "        # Dibujar líneas en la matriz de direcciones según el histograma\n",
    "        for j in range(len(hist)):\n",
    "            magnitude = hist[j]\n",
    "            angle = bin_centers[j]\n",
    "            x = int(blockSize // 2 + magnitude * np.cos(np.radians(angle)))\n",
    "            y = int(blockSize // 2 + magnitude * np.sin(np.radians(angle)))\n",
    "            cv2.line(direction_image, (blockSize // 2, blockSize // 2), (x, y), int(hist[j]), thickness=1)\n",
    "\n",
    "    # Mostrar la imagen resultante\n",
    "    plt.imshow(direction_image, cmap='gray')\n",
    "    plt.axis('off')\n",
    "    plt.show()"
   ]
  },
  {
   "cell_type": "code",
   "execution_count": 10,
   "metadata": {},
   "outputs": [
    {
     "data": {
      "image/png": "[encoded data removed]",
      "text/plain": [
       "<Figure size 640x480 with 1 Axes>"
      ]
     },
     "metadata": {},
     "output_type": "display_data"
    }
   ],
   "source": [
    "blockSize = 8\n",
    "stride = 8\n",
    "image = cv2.imread('./assets/person.png', cv2.IMREAD_GRAYSCALE)\n",
    "\n",
    "visualize_histograms_from_image(image, blockSize, stride)"
   ]
  }
 ],
 "metadata": {
  "kernelspec": {
   "display_name": "Python 3",
   "language": "python",
   "name": "python3"
  },
  "language_info": {
   "codemirror_mode": {
    "name": "ipython",
    "version": 3
   },
   "file_extension": ".py",
   "mimetype": "text/x-python",
   "name": "python",
   "nbconvert_exporter": "python",
   "pygments_lexer": "ipython3",
   "version": "3.11.4"
  }
 },
 "nbformat": 4,
 "nbformat_minor": 2
}
